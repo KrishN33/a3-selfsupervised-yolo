{
  "cells": [
    {
      "cell_type": "markdown",
      "metadata": {
        "id": "IWMWW8Ab_345"
      },
      "source": [
        "# (Optional) Colab Setup\n",
        "If you aren't using Colab, you can delete the following code cell. This is just to help students with mounting to Google Drive to access the other .py files and downloading the data, which is a little trickier on Colab than on your local machine using Jupyter."
      ]
    },
    {
      "cell_type": "code",
      "execution_count": 1,
      "metadata": {
        "id": "vH4wc4iD_6w_",
        "colab": {
          "base_uri": "https://localhost:8080/"
        },
        "outputId": "b8071c35-b606-4250-c6ab-fb9903677582"
      },
      "outputs": [
        {
          "output_type": "stream",
          "name": "stdout",
          "text": [
            "Mounted at /content/drive\n"
          ]
        }
      ],
      "source": [
        "#you will be prompted with a window asking to grant permissions\n",
        "from google.colab import drive\n",
        "drive.mount(\"/content/drive\")"
      ]
    },
    {
      "cell_type": "code",
      "execution_count": 2,
      "metadata": {
        "id": "XpNsPHZc_879",
        "colab": {
          "base_uri": "https://localhost:8080/"
        },
        "outputId": "c6ac29f6-656f-444e-9f12-cfde964bda90"
      },
      "outputs": [
        {
          "output_type": "stream",
          "name": "stdout",
          "text": [
            "/content/drive/My Drive/assignment3_starter_sp24\n"
          ]
        }
      ],
      "source": [
        "# fill in the path in your Google Drive in the string below. Note: do not escape slashes or spaces\n",
        "import os\n",
        "datadir = \"/content/drive/My Drive/assignment3_starter_sp24\"\n",
        "if not os.path.exists(datadir):\n",
        "  !ln -s \"/content/drive/My Drive/assignment3_starter_sp24\" $datadir # TODO: Fill your Assignment 3 path\n",
        "os.chdir(datadir)\n",
        "!pwd"
      ]
    },
    {
      "cell_type": "markdown",
      "metadata": {
        "id": "Um5DJvBwb6xT"
      },
      "source": [
        "#Data Setup\n",
        "\n",
        "The first thing to do is implement a dataset class to load rotated CIFAR10 images with matching labels. Since there is already a CIFAR10 dataset class implemented in `torchvision`, we will extend this class and modify the `__getitem__` method appropriately to load rotated images.\n",
        "\n",
        "Each rotation label should be an integer in the set {0, 1, 2, 3} which correspond to rotations of 0, 90, 180, or 270 degrees respectively."
      ]
    },
    {
      "cell_type": "code",
      "execution_count": 3,
      "metadata": {
        "id": "oHkeNUOKiFbP"
      },
      "outputs": [],
      "source": [
        "import torch\n",
        "import torchvision\n",
        "import torchvision.transforms as transforms\n",
        "import numpy as np\n",
        "import random\n",
        "\n",
        "\n",
        "def rotate_img(img, rot):\n",
        "    if rot == 0: # 0 degrees rotation\n",
        "        return img\n",
        "    # TODO: Implement rotate_img() - return the rotated img\n",
        "    elif rot == 1:\n",
        "        return torch.rot90(img, k=1, dims=(1, 2))\n",
        "    elif rot == 2:\n",
        "        return torch.rot90(img, k=2, dims=(1, 2))\n",
        "    elif rot == 3:\n",
        "        return torch.rot90(img, k=3, dims=(1, 2))\n",
        "    else:\n",
        "        raise ValueError('rotation should be 0, 90, 180, or 270 degrees')\n",
        "\n",
        "\n",
        "\n",
        "\n",
        "class CIFAR10Rotation(torchvision.datasets.CIFAR10):\n",
        "\n",
        "    def __init__(self, root, train, download, transform) -> None:\n",
        "        super().__init__(root=root, train=train, download=download, transform=transform)\n",
        "\n",
        "    def __len__(self):\n",
        "        return len(self.data)\n",
        "\n",
        "    def __getitem__(self, index: int):\n",
        "        image, cls_label = super().__getitem__(index)\n",
        "\n",
        "        # randomly select image rotation\n",
        "        rotation_label = random.choice([0, 1, 2, 3])\n",
        "        image_rotated = rotate_img(image, rotation_label)\n",
        "\n",
        "        rotation_label = torch.tensor(rotation_label).long()\n",
        "        return image, image_rotated, rotation_label, torch.tensor(cls_label).long()"
      ]
    },
    {
      "cell_type": "code",
      "execution_count": 4,
      "metadata": {
        "id": "CCBSpNWpb8uw",
        "colab": {
          "base_uri": "https://localhost:8080/"
        },
        "outputId": "de2d8235-179a-46ea-9078-192bd1345c43"
      },
      "outputs": [
        {
          "output_type": "stream",
          "name": "stdout",
          "text": [
            "Files already downloaded and verified\n",
            "Files already downloaded and verified\n"
          ]
        }
      ],
      "source": [
        "transform_train = transforms.Compose([\n",
        "    transforms.RandomCrop(32, padding=4),\n",
        "    transforms.RandomHorizontalFlip(),\n",
        "    transforms.ToTensor(),\n",
        "    transforms.Normalize((0.4914, 0.4822, 0.4465), (0.2023, 0.1994, 0.2010)),\n",
        "])\n",
        "\n",
        "transform_test = transforms.Compose([\n",
        "    transforms.ToTensor(),\n",
        "    transforms.Normalize((0.4914, 0.4822, 0.4465), (0.2023, 0.1994, 0.2010)),\n",
        "])\n",
        "\n",
        "batch_size = 128\n",
        "\n",
        "trainset = CIFAR10Rotation(root='./data', train=True,\n",
        "                                        download=True, transform=transform_train)\n",
        "trainloader = torch.utils.data.DataLoader(trainset, batch_size=batch_size,\n",
        "                                          shuffle=True, num_workers=2)\n",
        "\n",
        "testset = CIFAR10Rotation(root='./data', train=False,\n",
        "                                       download=True, transform=transform_test)\n",
        "testloader = torch.utils.data.DataLoader(testset, batch_size=batch_size,\n",
        "                                         shuffle=False, num_workers=2)"
      ]
    },
    {
      "cell_type": "markdown",
      "metadata": {
        "id": "dOCWMyGhVOJB"
      },
      "source": [
        "### Show some example images and rotated images with labels:"
      ]
    },
    {
      "cell_type": "code",
      "execution_count": 5,
      "metadata": {
        "id": "A9wN4BJWVMzB",
        "colab": {
          "base_uri": "https://localhost:8080/",
          "height": 430
        },
        "outputId": "4ad64947-437c-429e-cec4-a1ff1278df14"
      },
      "outputs": [
        {
          "output_type": "stream",
          "name": "stderr",
          "text": [
            "WARNING:matplotlib.image:Clipping input data to the valid range for imshow with RGB data ([0..1] for floats or [0..255] for integers).\n"
          ]
        },
        {
          "output_type": "display_data",
          "data": {
            "text/plain": [
              "<Figure size 640x480 with 1 Axes>"
            ],
            "image/png": "[encoded data removed]"
          },
          "metadata": {}
        },
        {
          "output_type": "stream",
          "name": "stderr",
          "text": [
            "WARNING:matplotlib.image:Clipping input data to the valid range for imshow with RGB data ([0..1] for floats or [0..255] for integers).\n"
          ]
        },
        {
          "output_type": "stream",
          "name": "stdout",
          "text": [
            "Class labels:  cat   plane truck dog  \n"
          ]
        },
        {
          "output_type": "display_data",
          "data": {
            "text/plain": [
              "<Figure size 640x480 with 1 Axes>"
            ],
            "image/png": "[encoded data removed]"
          },
          "metadata": {}
        },
        {
          "output_type": "stream",
          "name": "stdout",
          "text": [
            "Rotation labels:  0     270   90    270  \n"
          ]
        }
      ],
      "source": [
        "import matplotlib.pyplot as plt\n",
        "\n",
        "classes = ('plane', 'car', 'bird', 'cat',\n",
        "           'deer', 'dog', 'frog', 'horse', 'ship', 'truck')\n",
        "\n",
        "rot_classes = ('0', '90', '180', '270')\n",
        "\n",
        "\n",
        "def imshow(img):\n",
        "    # unnormalize\n",
        "    img = transforms.Normalize((0, 0, 0), (1/0.2023, 1/0.1994, 1/0.2010))(img)\n",
        "    img = transforms.Normalize((-0.4914, -0.4822, -0.4465), (1, 1, 1))(img)\n",
        "    npimg = img.numpy()\n",
        "    plt.imshow(np.transpose(npimg, (1, 2, 0)))\n",
        "    plt.show()\n",
        "\n",
        "\n",
        "dataiter = iter(trainloader)\n",
        "images, rot_images, rot_labels, labels = next(dataiter)\n",
        "\n",
        "# print images and rotated images\n",
        "img_grid = imshow(torchvision.utils.make_grid(images[:4], padding=0))\n",
        "print('Class labels: ', ' '.join(f'{classes[labels[j]]:5s}' for j in range(4)))\n",
        "img_grid = imshow(torchvision.utils.make_grid(rot_images[:4], padding=0))\n",
        "print('Rotation labels: ', ' '.join(f'{rot_classes[rot_labels[j]]:5s}' for j in range(4)))"
      ]
    },
    {
      "cell_type": "markdown",
      "metadata": {
        "id": "unCucbHexG4W"
      },
      "source": [
        "# Evaluation code"
      ]
    },
    {
      "cell_type": "code",
      "execution_count": 6,
      "metadata": {
        "id": "pptQRpqK0rOl"
      },
      "outputs": [],
      "source": [
        "import time\n",
        "\n",
        "def run_test(net, testloader, criterion, task):\n",
        "    correct = 0\n",
        "    total = 0\n",
        "    avg_test_loss = 0.0\n",
        "    # since we're not training, we don't need to calculate the gradients for our outputs\n",
        "    with torch.no_grad():\n",
        "        for images, images_rotated, labels, cls_labels in testloader:\n",
        "            if task == 'rotation':\n",
        "              images, labels = images_rotated.to(device), labels.to(device)\n",
        "            elif task == 'classification':\n",
        "              images, labels = images.to(device), cls_labels.to(device)\n",
        "            outputs = net(images)\n",
        "\n",
        "            _, predicted = torch.max(outputs, 1)\n",
        "            total += labels.size(0)\n",
        "            correct += (predicted == labels).sum().item()\n",
        "            avg_test_loss += criterion(outputs, labels)  / len(testloader)\n",
        "    print('TESTING:')\n",
        "    print(f'Accuracy of the network on the 10000 test images: {100 * correct / total:.2f} %')\n",
        "    print(f'Average loss on the 10000 test images: {avg_test_loss:.3f}')"
      ]
    },
    {
      "cell_type": "code",
      "execution_count": 7,
      "metadata": {
        "id": "hf698c16A9k5"
      },
      "outputs": [],
      "source": [
        "def adjust_learning_rate(optimizer, epoch, init_lr, decay_epochs=30):\n",
        "    \"\"\"Sets the learning rate to the initial LR decayed by 10 every 30 epochs\"\"\"\n",
        "    lr = init_lr * (0.1 ** (epoch // decay_epochs))\n",
        "    for param_group in optimizer.param_groups:\n",
        "        param_group['lr'] = lr"
      ]
    },
    {
      "cell_type": "markdown",
      "metadata": {
        "id": "3lYdnb1Wsta_"
      },
      "source": [
        "# Train a ResNet18 on the rotation task\n",
        "\n",
        "### In this section, we will train a ResNet18 model on the rotation task. The input is a rotated image and the model predicts the rotation label. See the Data Setup section for details."
      ]
    },
    {
      "cell_type": "code",
      "execution_count": 8,
      "metadata": {
        "id": "knAiwdURvBHk",
        "colab": {
          "base_uri": "https://localhost:8080/",
          "height": 35
        },
        "outputId": "02949712-1f63-4f7d-8a97-e5f2ff3900c1"
      },
      "outputs": [
        {
          "output_type": "execute_result",
          "data": {
            "text/plain": [
              "'cuda'"
            ],
            "application/vnd.google.colaboratory.intrinsic+json": {
              "type": "string"
            }
          },
          "metadata": {},
          "execution_count": 8
        }
      ],
      "source": [
        "device = 'cuda' if torch.cuda.is_available() else 'cpu'\n",
        "device"
      ]
    },
    {
      "cell_type": "code",
      "execution_count": 9,
      "metadata": {
        "id": "235MEIUgsv65"
      },
      "outputs": [],
      "source": [
        "import torch.nn as nn\n",
        "import torch.nn.functional as F\n",
        "\n",
        "from torchvision.models import resnet18\n",
        "\n",
        "net = resnet18(num_classes=4)\n",
        "net = net.to(device)"
      ]
    },
    {
      "cell_type": "code",
      "execution_count": 10,
      "metadata": {
        "id": "Vuhiw0ZoszAd"
      },
      "outputs": [],
      "source": [
        "import torch.optim as optim\n",
        "\n",
        "\n",
        "criterion = nn.CrossEntropyLoss()\n",
        "\n",
        "optimizer = optim.SGD(net.parameters(), lr=0.001)"
      ]
    },
    {
      "cell_type": "code",
      "execution_count": 11,
      "metadata": {
        "id": "WleH-YBgs0rq"
      },
      "outputs": [],
      "source": [
        "def train(net, criterion, optimizer, num_epochs, decay_epochs, init_lr, task):\n",
        "\n",
        "    for epoch in range(num_epochs):  # loop over the dataset multiple times\n",
        "\n",
        "        running_loss = 0.0\n",
        "        running_correct = 0.0\n",
        "        running_total = 0.0\n",
        "        start_time = time.time()\n",
        "\n",
        "        net.train()\n",
        "\n",
        "        for i, (imgs, imgs_rotated, rotation_label, cls_label) in enumerate(trainloader, 0):\n",
        "            adjust_learning_rate(optimizer, epoch, init_lr, decay_epochs)\n",
        "\n",
        "            # Set the data to the correct device; Different tasks will use different inputs and labels\n",
        "            if task == 'rotation':\n",
        "                inputs, labels = imgs_rotated.to(device), rotation_label.to(device)\n",
        "            elif task == 'classification':\n",
        "                inputs, labels = imgs.to(device), cls_label.to(device)\n",
        "\n",
        "            optimizer.zero_grad()\n",
        "            outputs = net(inputs)\n",
        "\n",
        "            loss = criterion(outputs, labels)\n",
        "            loss.backward()\n",
        "            optimizer.step()\n",
        "\n",
        "            _, predicted = torch.max(outputs, 1)\n",
        "\n",
        "            print_freq = 100\n",
        "            running_loss += loss.item()\n",
        "\n",
        "            running_total += labels.size(0)\n",
        "            running_correct += (predicted == labels).sum().item()\n",
        "\n",
        "            if i % print_freq == (print_freq - 1):\n",
        "                print(f'[{epoch + 1}, {i + 1:5d}] loss: {running_loss / print_freq:.3f} acc: {100*running_correct / running_total:.2f} time: {time.time() - start_time:.2f}')\n",
        "                running_loss, running_correct, running_total = 0.0, 0.0, 0.0\n",
        "                start_time = time.time()\n",
        "\n",
        "        net.eval()\n",
        "        run_test(net, testloader, criterion, task)\n",
        "\n"
      ]
    },
    {
      "cell_type": "code",
      "execution_count": null,
      "metadata": {
        "id": "2u4AsfAKtaQS",
        "colab": {
          "base_uri": "https://localhost:8080/"
        },
        "outputId": "7934b1c9-e4aa-4b81-a952-7ba73aee3b0d"
      },
      "outputs": [
        {
          "output_type": "stream",
          "name": "stdout",
          "text": [
            "[1,   100] loss: 1.570 acc: 43.68 time: 7.32\n",
            "[1,   200] loss: 1.019 acc: 55.96 time: 6.90\n",
            "[1,   300] loss: 0.945 acc: 59.36 time: 7.74\n",
            "TESTING:\n",
            "Accuracy of the network on the 10000 test images: 63.15 %\n",
            "Average loss on the 10000 test images: 0.939\n",
            "[2,   100] loss: 0.866 acc: 63.02 time: 7.76\n",
            "[2,   200] loss: 0.849 acc: 64.16 time: 6.33\n",
            "[2,   300] loss: 0.804 acc: 66.48 time: 7.68\n",
            "TESTING:\n",
            "Accuracy of the network on the 10000 test images: 68.47 %\n",
            "Average loss on the 10000 test images: 0.761\n",
            "[3,   100] loss: 0.773 acc: 67.59 time: 6.50\n",
            "[3,   200] loss: 0.757 acc: 68.66 time: 7.56\n",
            "[3,   300] loss: 0.755 acc: 68.98 time: 6.36\n",
            "TESTING:\n",
            "Accuracy of the network on the 10000 test images: 71.40 %\n",
            "Average loss on the 10000 test images: 0.695\n",
            "[4,   100] loss: 0.726 acc: 70.29 time: 7.24\n",
            "[4,   200] loss: 0.726 acc: 70.23 time: 6.76\n",
            "[4,   300] loss: 0.698 acc: 71.55 time: 6.95\n",
            "TESTING:\n",
            "Accuracy of the network on the 10000 test images: 73.21 %\n",
            "Average loss on the 10000 test images: 0.658\n",
            "[5,   100] loss: 0.679 acc: 72.50 time: 7.84\n",
            "[5,   200] loss: 0.690 acc: 72.23 time: 6.29\n",
            "[5,   300] loss: 0.676 acc: 72.59 time: 7.89\n",
            "TESTING:\n",
            "Accuracy of the network on the 10000 test images: 75.12 %\n",
            "Average loss on the 10000 test images: 0.629\n",
            "[6,   100] loss: 0.654 acc: 73.74 time: 7.11\n",
            "[6,   200] loss: 0.662 acc: 73.36 time: 7.66\n",
            "[6,   300] loss: 0.653 acc: 74.12 time: 6.39\n",
            "TESTING:\n",
            "Accuracy of the network on the 10000 test images: 76.68 %\n",
            "Average loss on the 10000 test images: 0.590\n",
            "[7,   100] loss: 0.634 acc: 75.07 time: 6.44\n",
            "[7,   200] loss: 0.622 acc: 75.18 time: 7.77\n",
            "[7,   300] loss: 0.615 acc: 75.77 time: 6.68\n",
            "TESTING:\n",
            "Accuracy of the network on the 10000 test images: 76.70 %\n",
            "Average loss on the 10000 test images: 0.582\n",
            "[8,   100] loss: 0.604 acc: 76.04 time: 7.79\n",
            "[8,   200] loss: 0.602 acc: 75.98 time: 6.45\n",
            "[8,   300] loss: 0.604 acc: 76.57 time: 7.78\n",
            "TESTING:\n",
            "Accuracy of the network on the 10000 test images: 77.88 %\n",
            "Average loss on the 10000 test images: 0.559\n",
            "[9,   100] loss: 0.604 acc: 76.23 time: 7.36\n",
            "[9,   200] loss: 0.604 acc: 76.01 time: 7.25\n",
            "[9,   300] loss: 0.578 acc: 77.16 time: 7.05\n",
            "TESTING:\n",
            "Accuracy of the network on the 10000 test images: 78.27 %\n",
            "Average loss on the 10000 test images: 0.554\n",
            "[10,   100] loss: 0.574 acc: 77.16 time: 6.42\n",
            "[10,   200] loss: 0.581 acc: 77.12 time: 7.76\n",
            "[10,   300] loss: 0.590 acc: 76.51 time: 6.39\n",
            "TESTING:\n",
            "Accuracy of the network on the 10000 test images: 78.28 %\n",
            "Average loss on the 10000 test images: 0.560\n",
            "[11,   100] loss: 0.568 acc: 77.75 time: 8.11\n",
            "[11,   200] loss: 0.570 acc: 77.47 time: 6.50\n",
            "[11,   300] loss: 0.553 acc: 78.16 time: 7.82\n",
            "TESTING:\n",
            "Accuracy of the network on the 10000 test images: 79.24 %\n",
            "Average loss on the 10000 test images: 0.526\n",
            "[12,   100] loss: 0.554 acc: 78.18 time: 7.82\n",
            "[12,   200] loss: 0.555 acc: 77.82 time: 6.37\n",
            "[12,   300] loss: 0.550 acc: 78.41 time: 7.81\n",
            "TESTING:\n",
            "Accuracy of the network on the 10000 test images: 79.57 %\n",
            "Average loss on the 10000 test images: 0.518\n",
            "[13,   100] loss: 0.545 acc: 78.51 time: 6.44\n",
            "[13,   200] loss: 0.561 acc: 77.98 time: 7.67\n",
            "[13,   300] loss: 0.554 acc: 78.48 time: 6.32\n",
            "TESTING:\n",
            "Accuracy of the network on the 10000 test images: 79.79 %\n",
            "Average loss on the 10000 test images: 0.516\n",
            "[14,   100] loss: 0.553 acc: 78.21 time: 7.20\n",
            "[14,   200] loss: 0.551 acc: 78.59 time: 7.11\n",
            "[14,   300] loss: 0.539 acc: 78.77 time: 7.19\n",
            "TESTING:\n",
            "Accuracy of the network on the 10000 test images: 79.60 %\n",
            "Average loss on the 10000 test images: 0.514\n",
            "[15,   100] loss: 0.557 acc: 78.09 time: 7.86\n",
            "[15,   200] loss: 0.549 acc: 78.20 time: 6.52\n",
            "[15,   300] loss: 0.540 acc: 78.56 time: 7.92\n",
            "TESTING:\n",
            "Accuracy of the network on the 10000 test images: 79.93 %\n",
            "Average loss on the 10000 test images: 0.512\n",
            "[16,   100] loss: 0.533 acc: 79.52 time: 6.59\n",
            "[16,   200] loss: 0.554 acc: 78.27 time: 7.77\n",
            "[16,   300] loss: 0.543 acc: 78.78 time: 6.16\n",
            "TESTING:\n",
            "Accuracy of the network on the 10000 test images: 79.95 %\n",
            "Average loss on the 10000 test images: 0.510\n",
            "[17,   100] loss: 0.544 acc: 78.99 time: 6.40\n",
            "[17,   200] loss: 0.551 acc: 78.36 time: 7.82\n",
            "[17,   300] loss: 0.539 acc: 79.27 time: 6.43\n",
            "TESTING:\n",
            "Accuracy of the network on the 10000 test images: 79.85 %\n",
            "Average loss on the 10000 test images: 0.506\n",
            "[18,   100] loss: 0.525 acc: 79.48 time: 7.78\n",
            "[18,   200] loss: 0.543 acc: 78.60 time: 6.38\n",
            "[18,   300] loss: 0.545 acc: 78.45 time: 7.50\n",
            "TESTING:\n",
            "Accuracy of the network on the 10000 test images: 79.93 %\n",
            "Average loss on the 10000 test images: 0.515\n",
            "[19,   100] loss: 0.551 acc: 78.83 time: 7.84\n",
            "[19,   200] loss: 0.529 acc: 79.45 time: 6.47\n",
            "[19,   300] loss: 0.533 acc: 79.30 time: 7.50\n",
            "TESTING:\n",
            "Accuracy of the network on the 10000 test images: 80.02 %\n",
            "Average loss on the 10000 test images: 0.513\n",
            "[20,   100] loss: 0.538 acc: 79.09 time: 6.55\n",
            "[20,   200] loss: 0.540 acc: 78.98 time: 7.82\n",
            "[20,   300] loss: 0.537 acc: 78.95 time: 6.35\n",
            "TESTING:\n",
            "Accuracy of the network on the 10000 test images: 80.38 %\n",
            "Average loss on the 10000 test images: 0.507\n",
            "[21,   100] loss: 0.537 acc: 79.17 time: 7.38\n",
            "[21,   200] loss: 0.539 acc: 79.12 time: 6.90\n",
            "[21,   300] loss: 0.543 acc: 78.62 time: 7.44\n",
            "TESTING:\n",
            "Accuracy of the network on the 10000 test images: 80.22 %\n",
            "Average loss on the 10000 test images: 0.512\n",
            "[22,   100] loss: 0.527 acc: 79.74 time: 7.93\n",
            "[22,   200] loss: 0.541 acc: 78.62 time: 6.19\n",
            "[22,   300] loss: 0.542 acc: 78.75 time: 7.94\n",
            "TESTING:\n",
            "Accuracy of the network on the 10000 test images: 79.92 %\n",
            "Average loss on the 10000 test images: 0.511\n",
            "[23,   100] loss: 0.532 acc: 79.13 time: 6.70\n",
            "[23,   200] loss: 0.542 acc: 78.91 time: 7.70\n",
            "[23,   300] loss: 0.549 acc: 78.47 time: 6.54\n",
            "TESTING:\n",
            "Accuracy of the network on the 10000 test images: 80.32 %\n",
            "Average loss on the 10000 test images: 0.511\n",
            "[24,   100] loss: 0.537 acc: 79.27 time: 7.17\n",
            "[24,   200] loss: 0.546 acc: 78.56 time: 7.34\n",
            "[24,   300] loss: 0.531 acc: 79.11 time: 7.18\n",
            "TESTING:\n",
            "Accuracy of the network on the 10000 test images: 80.32 %\n",
            "Average loss on the 10000 test images: 0.505\n",
            "[25,   100] loss: 0.525 acc: 79.68 time: 8.18\n",
            "[25,   200] loss: 0.547 acc: 78.55 time: 6.32\n",
            "[25,   300] loss: 0.541 acc: 78.53 time: 7.88\n",
            "TESTING:\n",
            "Accuracy of the network on the 10000 test images: 80.28 %\n",
            "Average loss on the 10000 test images: 0.505\n",
            "[26,   100] loss: 0.542 acc: 78.72 time: 6.89\n",
            "[26,   200] loss: 0.530 acc: 79.39 time: 7.66\n",
            "[26,   300] loss: 0.539 acc: 79.28 time: 6.44\n",
            "TESTING:\n",
            "Accuracy of the network on the 10000 test images: 79.65 %\n",
            "Average loss on the 10000 test images: 0.509\n",
            "[27,   100] loss: 0.546 acc: 78.55 time: 6.52\n",
            "[27,   200] loss: 0.537 acc: 78.92 time: 7.73\n",
            "[27,   300] loss: 0.528 acc: 79.55 time: 6.65\n",
            "TESTING:\n",
            "Accuracy of the network on the 10000 test images: 80.07 %\n",
            "Average loss on the 10000 test images: 0.506\n",
            "[28,   100] loss: 0.533 acc: 79.23 time: 7.96\n",
            "[28,   200] loss: 0.538 acc: 79.05 time: 6.46\n",
            "[28,   300] loss: 0.534 acc: 79.41 time: 7.70\n",
            "TESTING:\n",
            "Accuracy of the network on the 10000 test images: 80.36 %\n",
            "Average loss on the 10000 test images: 0.503\n",
            "[29,   100] loss: 0.539 acc: 78.77 time: 7.23\n",
            "[29,   200] loss: 0.524 acc: 79.45 time: 7.39\n",
            "[29,   300] loss: 0.539 acc: 78.67 time: 6.70\n",
            "TESTING:\n",
            "Accuracy of the network on the 10000 test images: 79.90 %\n",
            "Average loss on the 10000 test images: 0.509\n",
            "[30,   100] loss: 0.535 acc: 79.18 time: 6.56\n",
            "[30,   200] loss: 0.524 acc: 79.14 time: 7.81\n",
            "[30,   300] loss: 0.545 acc: 78.83 time: 6.20\n",
            "TESTING:\n",
            "Accuracy of the network on the 10000 test images: 80.38 %\n",
            "Average loss on the 10000 test images: 0.501\n",
            "[31,   100] loss: 0.529 acc: 79.02 time: 7.95\n",
            "[31,   200] loss: 0.538 acc: 78.86 time: 6.38\n",
            "[31,   300] loss: 0.548 acc: 78.55 time: 7.81\n",
            "TESTING:\n",
            "Accuracy of the network on the 10000 test images: 79.87 %\n",
            "Average loss on the 10000 test images: 0.513\n",
            "[32,   100] loss: 0.532 acc: 79.31 time: 7.96\n",
            "[32,   200] loss: 0.531 acc: 79.31 time: 6.52\n",
            "[32,   300] loss: 0.531 acc: 78.80 time: 7.75\n",
            "TESTING:\n",
            "Accuracy of the network on the 10000 test images: 80.23 %\n",
            "Average loss on the 10000 test images: 0.506\n",
            "[33,   100] loss: 0.549 acc: 78.54 time: 6.52\n",
            "[33,   200] loss: 0.535 acc: 79.42 time: 7.57\n",
            "[33,   300] loss: 0.531 acc: 79.34 time: 6.36\n",
            "TESTING:\n",
            "Accuracy of the network on the 10000 test images: 80.59 %\n",
            "Average loss on the 10000 test images: 0.501\n",
            "[34,   100] loss: 0.534 acc: 79.23 time: 7.45\n",
            "[34,   200] loss: 0.537 acc: 79.26 time: 7.05\n",
            "[34,   300] loss: 0.541 acc: 78.67 time: 7.45\n",
            "TESTING:\n",
            "Accuracy of the network on the 10000 test images: 80.13 %\n",
            "Average loss on the 10000 test images: 0.505\n",
            "[35,   100] loss: 0.532 acc: 79.45 time: 7.92\n",
            "[35,   200] loss: 0.531 acc: 79.37 time: 6.45\n",
            "[35,   300] loss: 0.545 acc: 78.45 time: 7.79\n",
            "TESTING:\n",
            "Accuracy of the network on the 10000 test images: 79.53 %\n",
            "Average loss on the 10000 test images: 0.515\n",
            "[36,   100] loss: 0.543 acc: 78.42 time: 6.61\n",
            "[36,   200] loss: 0.535 acc: 78.99 time: 7.73\n",
            "[36,   300] loss: 0.526 acc: 79.89 time: 6.67\n",
            "TESTING:\n",
            "Accuracy of the network on the 10000 test images: 80.45 %\n",
            "Average loss on the 10000 test images: 0.508\n",
            "[37,   100] loss: 0.534 acc: 79.09 time: 6.77\n",
            "[37,   200] loss: 0.539 acc: 79.03 time: 7.54\n",
            "[37,   300] loss: 0.550 acc: 77.84 time: 7.04\n",
            "TESTING:\n",
            "Accuracy of the network on the 10000 test images: 80.27 %\n",
            "Average loss on the 10000 test images: 0.508\n",
            "[38,   100] loss: 0.526 acc: 79.65 time: 7.93\n",
            "[38,   200] loss: 0.549 acc: 78.47 time: 6.46\n",
            "[38,   300] loss: 0.544 acc: 78.26 time: 7.84\n",
            "TESTING:\n",
            "Accuracy of the network on the 10000 test images: 79.94 %\n",
            "Average loss on the 10000 test images: 0.515\n",
            "[39,   100] loss: 0.538 acc: 78.97 time: 6.94\n",
            "[39,   200] loss: 0.531 acc: 79.60 time: 7.79\n",
            "[39,   300] loss: 0.543 acc: 78.42 time: 6.38\n",
            "TESTING:\n",
            "Accuracy of the network on the 10000 test images: 79.92 %\n",
            "Average loss on the 10000 test images: 0.508\n",
            "[40,   100] loss: 0.537 acc: 78.87 time: 6.41\n",
            "[40,   200] loss: 0.543 acc: 78.67 time: 7.72\n",
            "[40,   300] loss: 0.534 acc: 79.23 time: 6.31\n",
            "TESTING:\n",
            "Accuracy of the network on the 10000 test images: 80.23 %\n",
            "Average loss on the 10000 test images: 0.500\n",
            "[41,   100] loss: 0.523 acc: 79.70 time: 7.72\n",
            "[41,   200] loss: 0.540 acc: 78.95 time: 6.59\n",
            "[41,   300] loss: 0.530 acc: 79.22 time: 7.67\n",
            "TESTING:\n",
            "Accuracy of the network on the 10000 test images: 80.09 %\n",
            "Average loss on the 10000 test images: 0.505\n",
            "[42,   100] loss: 0.531 acc: 79.17 time: 7.70\n",
            "[42,   200] loss: 0.531 acc: 79.08 time: 6.98\n",
            "[42,   300] loss: 0.525 acc: 79.77 time: 7.10\n",
            "TESTING:\n",
            "Accuracy of the network on the 10000 test images: 80.33 %\n",
            "Average loss on the 10000 test images: 0.502\n",
            "[43,   100] loss: 0.528 acc: 79.09 time: 6.50\n",
            "[43,   200] loss: 0.544 acc: 78.93 time: 7.77\n",
            "[43,   300] loss: 0.531 acc: 79.05 time: 6.51\n",
            "TESTING:\n",
            "Accuracy of the network on the 10000 test images: 79.94 %\n",
            "Average loss on the 10000 test images: 0.507\n",
            "[44,   100] loss: 0.539 acc: 79.12 time: 7.70\n",
            "[44,   200] loss: 0.534 acc: 79.34 time: 6.64\n",
            "[44,   300] loss: 0.528 acc: 79.33 time: 7.60\n",
            "TESTING:\n",
            "Accuracy of the network on the 10000 test images: 80.09 %\n",
            "Average loss on the 10000 test images: 0.505\n",
            "[45,   100] loss: 0.538 acc: 79.17 time: 7.92\n",
            "[45,   200] loss: 0.540 acc: 78.91 time: 6.32\n",
            "[45,   300] loss: 0.539 acc: 78.63 time: 7.77\n",
            "TESTING:\n",
            "Accuracy of the network on the 10000 test images: 80.04 %\n",
            "Average loss on the 10000 test images: 0.505\n",
            "[46,   100] loss: 0.539 acc: 79.12 time: 6.66\n",
            "[46,   200] loss: 0.532 acc: 79.26 time: 7.74\n",
            "[46,   300] loss: 0.528 acc: 79.08 time: 6.33\n",
            "TESTING:\n",
            "Accuracy of the network on the 10000 test images: 80.18 %\n",
            "Average loss on the 10000 test images: 0.506\n",
            "[47,   100] loss: 0.524 acc: 79.80 time: 7.14\n",
            "[47,   200] loss: 0.546 acc: 78.47 time: 7.19\n",
            "[47,   300] loss: 0.535 acc: 78.95 time: 6.99\n",
            "TESTING:\n",
            "Accuracy of the network on the 10000 test images: 79.28 %\n",
            "Average loss on the 10000 test images: 0.517\n",
            "[48,   100] loss: 0.535 acc: 79.28 time: 7.96\n",
            "[48,   200] loss: 0.535 acc: 78.89 time: 6.38\n",
            "[48,   300] loss: 0.534 acc: 79.19 time: 7.66\n",
            "TESTING:\n",
            "Accuracy of the network on the 10000 test images: 80.22 %\n",
            "Average loss on the 10000 test images: 0.508\n",
            "[49,   100] loss: 0.524 acc: 79.52 time: 6.88\n",
            "[49,   200] loss: 0.539 acc: 78.95 time: 7.77\n",
            "[49,   300] loss: 0.528 acc: 79.51 time: 6.31\n",
            "TESTING:\n",
            "Accuracy of the network on the 10000 test images: 80.02 %\n",
            "Average loss on the 10000 test images: 0.507\n",
            "[50,   100] loss: 0.527 acc: 79.20 time: 6.55\n",
            "[50,   200] loss: 0.531 acc: 79.20 time: 7.69\n",
            "[50,   300] loss: 0.548 acc: 78.52 time: 6.38\n",
            "TESTING:\n",
            "Accuracy of the network on the 10000 test images: 80.01 %\n",
            "Average loss on the 10000 test images: 0.510\n",
            "[51,   100] loss: 0.535 acc: 79.28 time: 7.89\n",
            "[51,   200] loss: 0.521 acc: 79.39 time: 6.34\n",
            "[51,   300] loss: 0.531 acc: 79.36 time: 7.63\n",
            "TESTING:\n",
            "Accuracy of the network on the 10000 test images: 80.57 %\n",
            "Average loss on the 10000 test images: 0.503\n",
            "[52,   100] loss: 0.530 acc: 78.86 time: 7.90\n",
            "[52,   200] loss: 0.541 acc: 79.11 time: 6.86\n",
            "[52,   300] loss: 0.528 acc: 79.05 time: 7.24\n",
            "TESTING:\n",
            "Accuracy of the network on the 10000 test images: 80.45 %\n",
            "Average loss on the 10000 test images: 0.501\n",
            "[53,   100] loss: 0.526 acc: 79.26 time: 6.57\n",
            "[53,   200] loss: 0.543 acc: 78.84 time: 7.66\n",
            "[53,   300] loss: 0.548 acc: 78.34 time: 6.34\n",
            "TESTING:\n",
            "Accuracy of the network on the 10000 test images: 80.52 %\n",
            "Average loss on the 10000 test images: 0.505\n",
            "[54,   100] loss: 0.535 acc: 78.87 time: 7.39\n",
            "[54,   200] loss: 0.536 acc: 79.21 time: 6.69\n",
            "[54,   300] loss: 0.548 acc: 78.65 time: 7.30\n",
            "TESTING:\n",
            "Accuracy of the network on the 10000 test images: 80.60 %\n",
            "Average loss on the 10000 test images: 0.502\n",
            "[55,   100] loss: 0.522 acc: 79.39 time: 7.86\n",
            "[55,   200] loss: 0.542 acc: 78.80 time: 6.25\n",
            "[55,   300] loss: 0.536 acc: 79.17 time: 7.60\n",
            "TESTING:\n",
            "Accuracy of the network on the 10000 test images: 80.24 %\n",
            "Average loss on the 10000 test images: 0.507\n",
            "[56,   100] loss: 0.525 acc: 79.72 time: 6.71\n",
            "[56,   200] loss: 0.541 acc: 79.02 time: 7.71\n",
            "[56,   300] loss: 0.537 acc: 78.85 time: 6.27\n",
            "TESTING:\n",
            "Accuracy of the network on the 10000 test images: 80.19 %\n",
            "Average loss on the 10000 test images: 0.505\n",
            "[57,   100] loss: 0.543 acc: 78.66 time: 6.57\n",
            "[57,   200] loss: 0.530 acc: 78.98 time: 7.57\n",
            "[57,   300] loss: 0.540 acc: 78.85 time: 6.28\n",
            "TESTING:\n",
            "Accuracy of the network on the 10000 test images: 80.24 %\n",
            "Average loss on the 10000 test images: 0.509\n",
            "[58,   100] loss: 0.543 acc: 78.81 time: 7.90\n",
            "[58,   200] loss: 0.536 acc: 78.74 time: 6.35\n",
            "[58,   300] loss: 0.547 acc: 78.74 time: 7.76\n",
            "TESTING:\n",
            "Accuracy of the network on the 10000 test images: 80.37 %\n",
            "Average loss on the 10000 test images: 0.511\n",
            "[59,   100] loss: 0.539 acc: 78.67 time: 7.78\n",
            "[59,   200] loss: 0.531 acc: 79.69 time: 6.67\n",
            "[59,   300] loss: 0.543 acc: 78.88 time: 7.40\n",
            "TESTING:\n",
            "Accuracy of the network on the 10000 test images: 80.34 %\n",
            "Average loss on the 10000 test images: 0.504\n",
            "[60,   100] loss: 0.546 acc: 78.79 time: 6.48\n",
            "[60,   200] loss: 0.527 acc: 79.55 time: 7.62\n",
            "[60,   300] loss: 0.528 acc: 79.59 time: 6.36\n",
            "TESTING:\n",
            "Accuracy of the network on the 10000 test images: 80.21 %\n",
            "Average loss on the 10000 test images: 0.508\n",
            "[61,   100] loss: 0.536 acc: 79.30 time: 6.90\n",
            "[61,   200] loss: 0.547 acc: 78.56 time: 7.01\n",
            "[61,   300] loss: 0.537 acc: 79.25 time: 7.05\n",
            "TESTING:\n",
            "Accuracy of the network on the 10000 test images: 80.06 %\n",
            "Average loss on the 10000 test images: 0.508\n",
            "[62,   100] loss: 0.530 acc: 79.38 time: 7.85\n",
            "[62,   200] loss: 0.530 acc: 79.45 time: 6.31\n",
            "[62,   300] loss: 0.532 acc: 79.80 time: 7.73\n",
            "TESTING:\n",
            "Accuracy of the network on the 10000 test images: 79.86 %\n",
            "Average loss on the 10000 test images: 0.513\n",
            "[63,   100] loss: 0.535 acc: 79.16 time: 7.05\n",
            "[63,   200] loss: 0.542 acc: 78.80 time: 7.27\n",
            "[63,   300] loss: 0.534 acc: 79.41 time: 6.81\n",
            "TESTING:\n",
            "Accuracy of the network on the 10000 test images: 80.17 %\n",
            "Average loss on the 10000 test images: 0.502\n",
            "[64,   100] loss: 0.537 acc: 79.09 time: 6.55\n",
            "[64,   200] loss: 0.533 acc: 79.23 time: 7.68\n",
            "[64,   300] loss: 0.536 acc: 79.20 time: 6.41\n",
            "TESTING:\n",
            "Accuracy of the network on the 10000 test images: 80.31 %\n",
            "Average loss on the 10000 test images: 0.510\n",
            "[65,   100] loss: 0.540 acc: 79.06 time: 7.76\n",
            "[65,   200] loss: 0.535 acc: 78.92 time: 6.46\n",
            "[65,   300] loss: 0.529 acc: 79.41 time: 7.79\n",
            "TESTING:\n",
            "Accuracy of the network on the 10000 test images: 80.25 %\n",
            "Average loss on the 10000 test images: 0.510\n",
            "[66,   100] loss: 0.527 acc: 79.41 time: 7.76\n",
            "[66,   200] loss: 0.544 acc: 78.76 time: 6.39\n",
            "[66,   300] loss: 0.538 acc: 78.88 time: 7.74\n",
            "TESTING:\n",
            "Accuracy of the network on the 10000 test images: 80.35 %\n",
            "Average loss on the 10000 test images: 0.504\n",
            "[67,   100] loss: 0.540 acc: 79.16 time: 6.47\n",
            "[67,   200] loss: 0.536 acc: 78.84 time: 7.73\n",
            "[67,   300] loss: 0.535 acc: 79.17 time: 6.36\n",
            "TESTING:\n",
            "Accuracy of the network on the 10000 test images: 80.26 %\n",
            "Average loss on the 10000 test images: 0.505\n",
            "[68,   100] loss: 0.531 acc: 79.41 time: 7.25\n",
            "[68,   200] loss: 0.534 acc: 78.92 time: 7.36\n",
            "[68,   300] loss: 0.536 acc: 79.14 time: 6.98\n",
            "TESTING:\n",
            "Accuracy of the network on the 10000 test images: 80.06 %\n",
            "Average loss on the 10000 test images: 0.511\n",
            "[69,   100] loss: 0.535 acc: 79.09 time: 7.88\n",
            "[69,   200] loss: 0.529 acc: 79.16 time: 6.32\n",
            "[69,   300] loss: 0.535 acc: 78.91 time: 7.71\n",
            "TESTING:\n",
            "Accuracy of the network on the 10000 test images: 80.34 %\n",
            "Average loss on the 10000 test images: 0.503\n",
            "[70,   100] loss: 0.554 acc: 78.36 time: 7.20\n",
            "[70,   200] loss: 0.540 acc: 79.02 time: 7.60\n",
            "[70,   300] loss: 0.532 acc: 78.86 time: 6.68\n",
            "TESTING:\n",
            "Accuracy of the network on the 10000 test images: 80.39 %\n",
            "Average loss on the 10000 test images: 0.502\n"
          ]
        }
      ],
      "source": [
        "train(net, criterion, optimizer, num_epochs=70, decay_epochs=10, init_lr=0.02, task='rotation')\n",
        "\n",
        "PATH = './cifar_net.pth'\n",
        "torch.save(net.state_dict(), PATH)"
      ]
    },
    {
      "cell_type": "markdown",
      "metadata": {
        "id": "PLLMRTS9rTnk"
      },
      "source": [
        "# Fine-tuning on the pre-trained model\n",
        "### In this section, we will load the pre-trained ResNet18 model and fine-tune on the classification task. We will freeze all previous layers except for the 'layer4' block and 'fc' layer."
      ]
    },
    {
      "cell_type": "code",
      "source": [
        "!export CUDA_LAUNCH_BLOCKING=1\n",
        "!pip install torch torchvision --extra-index-url https://download.pytorch.org/whl/cu118\n",
        "\n"
      ],
      "metadata": {
        "colab": {
          "base_uri": "https://localhost:8080/"
        },
        "id": "VA4OCyOHLZ5E",
        "outputId": "49ce2230-be8f-44bc-83d4-98fff233823e"
      },
      "execution_count": null,
      "outputs": [
        {
          "output_type": "stream",
          "name": "stdout",
          "text": [
            "Looking in indexes: https://pypi.org/simple, https://download.pytorch.org/whl/cu118\n",
            "Requirement already satisfied: torch in /usr/local/lib/python3.10/dist-packages (2.2.1+cu121)\n",
            "Requirement already satisfied: torchvision in /usr/local/lib/python3.10/dist-packages (0.17.1+cu121)\n",
            "Requirement already satisfied: filelock in /usr/local/lib/python3.10/dist-packages (from torch) (3.13.3)\n",
            "Requirement already satisfied: typing-extensions>=4.8.0 in /usr/local/lib/python3.10/dist-packages (from torch) (4.10.0)\n",
            "Requirement already satisfied: sympy in /usr/local/lib/python3.10/dist-packages (from torch) (1.12)\n",
            "Requirement already satisfied: networkx in /usr/local/lib/python3.10/dist-packages (from torch) (3.2.1)\n",
            "Requirement already satisfied: jinja2 in /usr/local/lib/python3.10/dist-packages (from torch) (3.1.3)\n",
            "Requirement already satisfied: fsspec in /usr/local/lib/python3.10/dist-packages (from torch) (2023.6.0)\n",
            "Requirement already satisfied: nvidia-cuda-nvrtc-cu12==12.1.105 in /usr/local/lib/python3.10/dist-packages (from torch) (12.1.105)\n",
            "Requirement already satisfied: nvidia-cuda-runtime-cu12==12.1.105 in /usr/local/lib/python3.10/dist-packages (from torch) (12.1.105)\n",
            "Requirement already satisfied: nvidia-cuda-cupti-cu12==12.1.105 in /usr/local/lib/python3.10/dist-packages (from torch) (12.1.105)\n",
            "Requirement already satisfied: nvidia-cudnn-cu12==8.9.2.26 in /usr/local/lib/python3.10/dist-packages (from torch) (8.9.2.26)\n",
            "Requirement already satisfied: nvidia-cublas-cu12==12.1.3.1 in /usr/local/lib/python3.10/dist-packages (from torch) (12.1.3.1)\n",
            "Requirement already satisfied: nvidia-cufft-cu12==11.0.2.54 in /usr/local/lib/python3.10/dist-packages (from torch) (11.0.2.54)\n",
            "Requirement already satisfied: nvidia-curand-cu12==10.3.2.106 in /usr/local/lib/python3.10/dist-packages (from torch) (10.3.2.106)\n",
            "Requirement already satisfied: nvidia-cusolver-cu12==11.4.5.107 in /usr/local/lib/python3.10/dist-packages (from torch) (11.4.5.107)\n",
            "Requirement already satisfied: nvidia-cusparse-cu12==12.1.0.106 in /usr/local/lib/python3.10/dist-packages (from torch) (12.1.0.106)\n",
            "Requirement already satisfied: nvidia-nccl-cu12==2.19.3 in /usr/local/lib/python3.10/dist-packages (from torch) (2.19.3)\n",
            "Requirement already satisfied: nvidia-nvtx-cu12==12.1.105 in /usr/local/lib/python3.10/dist-packages (from torch) (12.1.105)\n",
            "Requirement already satisfied: triton==2.2.0 in /usr/local/lib/python3.10/dist-packages (from torch) (2.2.0)\n",
            "Requirement already satisfied: nvidia-nvjitlink-cu12 in /usr/local/lib/python3.10/dist-packages (from nvidia-cusolver-cu12==11.4.5.107->torch) (12.4.99)\n",
            "Requirement already satisfied: numpy in /usr/local/lib/python3.10/dist-packages (from torchvision) (1.25.2)\n",
            "Requirement already satisfied: pillow!=8.3.*,>=5.3.0 in /usr/local/lib/python3.10/dist-packages (from torchvision) (9.4.0)\n",
            "Requirement already satisfied: MarkupSafe>=2.0 in /usr/local/lib/python3.10/dist-packages (from jinja2->torch) (2.1.5)\n",
            "Requirement already satisfied: mpmath>=0.19 in /usr/local/lib/python3.10/dist-packages (from sympy->torch) (1.3.0)\n"
          ]
        }
      ]
    },
    {
      "cell_type": "code",
      "execution_count": 12,
      "metadata": {
        "id": "S4nX4ExlrymI",
        "colab": {
          "base_uri": "https://localhost:8080/"
        },
        "outputId": "81a3ff61-433c-437e-94f8-7199859f52ef"
      },
      "outputs": [
        {
          "output_type": "stream",
          "name": "stderr",
          "text": [
            "/usr/local/lib/python3.10/dist-packages/torchvision/models/_utils.py:208: UserWarning: The parameter 'pretrained' is deprecated since 0.13 and may be removed in the future, please use 'weights' instead.\n",
            "  warnings.warn(\n",
            "/usr/local/lib/python3.10/dist-packages/torchvision/models/_utils.py:223: UserWarning: Arguments other than a weight enum or `None` for 'weights' are deprecated since 0.13 and may be removed in the future. The current behavior is equivalent to passing `weights=ResNet18_Weights.IMAGENET1K_V1`. You can also use `weights=ResNet18_Weights.DEFAULT` to get the most up-to-date weights.\n",
            "  warnings.warn(msg)\n",
            "Downloading: \"https://download.pytorch.org/models/resnet18-f37072fd.pth\" to /root/.cache/torch/hub/checkpoints/resnet18-f37072fd.pth\n",
            "100%|██████████| 44.7M/44.7M [00:00<00:00, 133MB/s]\n"
          ]
        }
      ],
      "source": [
        "import torch.nn as nn\n",
        "import torch.nn.functional as F\n",
        "\n",
        "from torchvision.models import resnet18\n",
        "net = resnet18(pretrained=True)\n",
        "\n",
        "net = net.to(device)\n"
      ]
    },
    {
      "cell_type": "code",
      "execution_count": 13,
      "metadata": {
        "id": "kD44g-TxwYdU"
      },
      "outputs": [],
      "source": [
        "for name, param in net.named_parameters():\n",
        "    if 'layer4' in name or 'fc' in name:\n",
        "        param.requires_grad = True\n",
        "    else:\n",
        "        param.requires_grad = False\n",
        "\n",
        "\n"
      ]
    },
    {
      "cell_type": "code",
      "execution_count": 14,
      "metadata": {
        "id": "9T5DX0efr4fh",
        "colab": {
          "base_uri": "https://localhost:8080/"
        },
        "outputId": "98abe742-276c-49e3-ec30-5f7564d735e2"
      },
      "outputs": [
        {
          "output_type": "stream",
          "name": "stdout",
          "text": [
            "Params to learn:\n",
            "\t layer4.0.conv1.weight\n",
            "\t layer4.0.bn1.weight\n",
            "\t layer4.0.bn1.bias\n",
            "\t layer4.0.conv2.weight\n",
            "\t layer4.0.bn2.weight\n",
            "\t layer4.0.bn2.bias\n",
            "\t layer4.0.downsample.0.weight\n",
            "\t layer4.0.downsample.1.weight\n",
            "\t layer4.0.downsample.1.bias\n",
            "\t layer4.1.conv1.weight\n",
            "\t layer4.1.bn1.weight\n",
            "\t layer4.1.bn1.bias\n",
            "\t layer4.1.conv2.weight\n",
            "\t layer4.1.bn2.weight\n",
            "\t layer4.1.bn2.bias\n",
            "\t fc.weight\n",
            "\t fc.bias\n"
          ]
        }
      ],
      "source": [
        "# Print all the trainable parameters\n",
        "params_to_update = net.parameters()\n",
        "print(\"Params to learn:\")\n",
        "params_to_update = []\n",
        "for name,param in net.named_parameters():\n",
        "    if param.requires_grad == True:\n",
        "        params_to_update.append(param)\n",
        "        print(\"\\t\",name)"
      ]
    },
    {
      "cell_type": "code",
      "execution_count": 15,
      "metadata": {
        "id": "xb032dG700ph"
      },
      "outputs": [],
      "source": [
        "# TODO: Define criterion and optimizer\n",
        "# Note that your optimizer only needs to update the parameters that are trainable.\n",
        "criterion = nn.CrossEntropyLoss()\n",
        "optimizer = optim.Adam(net.parameters(), lr=0.001)"
      ]
    },
    {
      "cell_type": "code",
      "execution_count": 16,
      "metadata": {
        "id": "3vLSwOo6sBjl",
        "colab": {
          "base_uri": "https://localhost:8080/"
        },
        "outputId": "10239503-11f1-431b-92b6-0933179d2dbc"
      },
      "outputs": [
        {
          "output_type": "stream",
          "name": "stdout",
          "text": [
            "[1,   100] loss: 1.833 acc: 43.73 time: 7.63\n",
            "[1,   200] loss: 1.355 acc: 54.35 time: 6.27\n",
            "[1,   300] loss: 1.244 acc: 58.04 time: 5.89\n",
            "TESTING:\n",
            "Accuracy of the network on the 10000 test images: 62.16 %\n",
            "Average loss on the 10000 test images: 1.078\n",
            "[2,   100] loss: 1.138 acc: 60.77 time: 5.81\n",
            "[2,   200] loss: 1.096 acc: 62.17 time: 5.85\n",
            "[2,   300] loss: 1.084 acc: 62.16 time: 6.98\n",
            "TESTING:\n",
            "Accuracy of the network on the 10000 test images: 65.10 %\n",
            "Average loss on the 10000 test images: 1.006\n",
            "[3,   100] loss: 1.061 acc: 63.25 time: 5.73\n",
            "[3,   200] loss: 1.046 acc: 63.73 time: 6.39\n",
            "[3,   300] loss: 1.011 acc: 65.21 time: 6.05\n",
            "TESTING:\n",
            "Accuracy of the network on the 10000 test images: 66.27 %\n",
            "Average loss on the 10000 test images: 0.967\n",
            "[4,   100] loss: 1.012 acc: 64.48 time: 6.44\n",
            "[4,   200] loss: 0.997 acc: 65.37 time: 6.46\n",
            "[4,   300] loss: 0.981 acc: 65.47 time: 6.10\n",
            "TESTING:\n",
            "Accuracy of the network on the 10000 test images: 66.62 %\n",
            "Average loss on the 10000 test images: 0.955\n",
            "[5,   100] loss: 0.957 acc: 66.27 time: 5.79\n",
            "[5,   200] loss: 0.974 acc: 65.94 time: 6.95\n",
            "[5,   300] loss: 0.974 acc: 65.62 time: 5.50\n",
            "TESTING:\n",
            "Accuracy of the network on the 10000 test images: 67.07 %\n",
            "Average loss on the 10000 test images: 0.970\n",
            "[6,   100] loss: 0.931 acc: 67.50 time: 5.73\n",
            "[6,   200] loss: 0.937 acc: 67.25 time: 7.04\n",
            "[6,   300] loss: 0.956 acc: 65.91 time: 5.54\n",
            "TESTING:\n",
            "Accuracy of the network on the 10000 test images: 67.67 %\n",
            "Average loss on the 10000 test images: 0.939\n",
            "[7,   100] loss: 0.905 acc: 68.10 time: 5.89\n",
            "[7,   200] loss: 0.937 acc: 66.82 time: 7.02\n",
            "[7,   300] loss: 0.934 acc: 67.34 time: 5.65\n",
            "TESTING:\n",
            "Accuracy of the network on the 10000 test images: 68.16 %\n",
            "Average loss on the 10000 test images: 0.908\n",
            "[8,   100] loss: 0.900 acc: 68.65 time: 5.70\n",
            "[8,   200] loss: 0.911 acc: 67.90 time: 8.58\n",
            "[8,   300] loss: 0.887 acc: 68.73 time: 5.56\n",
            "TESTING:\n",
            "Accuracy of the network on the 10000 test images: 67.62 %\n",
            "Average loss on the 10000 test images: 0.923\n",
            "[9,   100] loss: 0.876 acc: 68.80 time: 5.82\n",
            "[9,   200] loss: 0.892 acc: 68.07 time: 7.11\n",
            "[9,   300] loss: 0.898 acc: 67.94 time: 5.67\n",
            "TESTING:\n",
            "Accuracy of the network on the 10000 test images: 68.41 %\n",
            "Average loss on the 10000 test images: 0.896\n",
            "[10,   100] loss: 0.870 acc: 69.31 time: 5.75\n",
            "[10,   200] loss: 0.869 acc: 69.36 time: 7.00\n",
            "[10,   300] loss: 0.895 acc: 68.38 time: 5.67\n",
            "TESTING:\n",
            "Accuracy of the network on the 10000 test images: 68.64 %\n",
            "Average loss on the 10000 test images: 0.892\n",
            "[11,   100] loss: 0.822 acc: 71.01 time: 6.22\n",
            "[11,   200] loss: 0.826 acc: 70.92 time: 6.69\n",
            "[11,   300] loss: 0.810 acc: 70.96 time: 5.72\n",
            "TESTING:\n",
            "Accuracy of the network on the 10000 test images: 70.33 %\n",
            "Average loss on the 10000 test images: 0.843\n",
            "[12,   100] loss: 0.793 acc: 71.54 time: 6.80\n",
            "[12,   200] loss: 0.793 acc: 72.42 time: 6.10\n",
            "[12,   300] loss: 0.790 acc: 72.20 time: 7.84\n",
            "TESTING:\n",
            "Accuracy of the network on the 10000 test images: 70.68 %\n",
            "Average loss on the 10000 test images: 0.839\n",
            "[13,   100] loss: 0.778 acc: 71.90 time: 7.19\n",
            "[13,   200] loss: 0.772 acc: 72.42 time: 5.64\n",
            "[13,   300] loss: 0.772 acc: 72.77 time: 6.65\n",
            "TESTING:\n",
            "Accuracy of the network on the 10000 test images: 70.71 %\n",
            "Average loss on the 10000 test images: 0.836\n",
            "[14,   100] loss: 0.757 acc: 73.46 time: 7.21\n",
            "[14,   200] loss: 0.758 acc: 73.55 time: 5.65\n",
            "[14,   300] loss: 0.764 acc: 73.20 time: 6.80\n",
            "TESTING:\n",
            "Accuracy of the network on the 10000 test images: 70.97 %\n",
            "Average loss on the 10000 test images: 0.836\n",
            "[15,   100] loss: 0.746 acc: 73.75 time: 7.15\n",
            "[15,   200] loss: 0.758 acc: 73.30 time: 5.62\n",
            "[15,   300] loss: 0.767 acc: 72.91 time: 7.05\n",
            "TESTING:\n",
            "Accuracy of the network on the 10000 test images: 71.57 %\n",
            "Average loss on the 10000 test images: 0.823\n",
            "[16,   100] loss: 0.740 acc: 73.59 time: 7.15\n",
            "[16,   200] loss: 0.755 acc: 72.91 time: 5.60\n",
            "[16,   300] loss: 0.740 acc: 73.62 time: 6.90\n",
            "TESTING:\n",
            "Accuracy of the network on the 10000 test images: 71.58 %\n",
            "Average loss on the 10000 test images: 0.823\n",
            "[17,   100] loss: 0.726 acc: 74.66 time: 6.99\n",
            "[17,   200] loss: 0.737 acc: 73.90 time: 5.71\n",
            "[17,   300] loss: 0.738 acc: 73.77 time: 7.20\n",
            "TESTING:\n",
            "Accuracy of the network on the 10000 test images: 71.54 %\n",
            "Average loss on the 10000 test images: 0.822\n",
            "[18,   100] loss: 0.724 acc: 74.27 time: 6.54\n",
            "[18,   200] loss: 0.731 acc: 74.34 time: 5.93\n",
            "[18,   300] loss: 0.741 acc: 73.69 time: 6.75\n",
            "TESTING:\n",
            "Accuracy of the network on the 10000 test images: 71.29 %\n",
            "Average loss on the 10000 test images: 0.831\n",
            "[19,   100] loss: 0.735 acc: 73.80 time: 5.89\n",
            "[19,   200] loss: 0.741 acc: 74.15 time: 6.60\n",
            "[19,   300] loss: 0.716 acc: 74.73 time: 6.33\n",
            "TESTING:\n",
            "Accuracy of the network on the 10000 test images: 71.47 %\n",
            "Average loss on the 10000 test images: 0.826\n",
            "[20,   100] loss: 0.718 acc: 74.37 time: 5.90\n",
            "[20,   200] loss: 0.714 acc: 74.86 time: 7.06\n",
            "[20,   300] loss: 0.734 acc: 74.11 time: 5.70\n",
            "TESTING:\n",
            "Accuracy of the network on the 10000 test images: 71.79 %\n",
            "Average loss on the 10000 test images: 0.818\n"
          ]
        }
      ],
      "source": [
        "train(net, criterion, optimizer, num_epochs=20, decay_epochs=10, init_lr=0.01, task='classification')\n"
      ]
    },
    {
      "cell_type": "markdown",
      "metadata": {
        "id": "ghPNhcJBrcNj"
      },
      "source": [
        "# Fine-tuning on the randomly initialized model\n",
        "### In this section, we will randomly initialize a ResNet18 model and fine-tune on the classification task. We will freeze all previous layers except for the 'layer4' block and 'fc' layer."
      ]
    },
    {
      "cell_type": "code",
      "execution_count": 17,
      "metadata": {
        "id": "2RfXAh9vxXRB"
      },
      "outputs": [],
      "source": [
        "import torch.nn as nn\n",
        "import torch.nn.functional as F\n",
        "\n",
        "from torchvision.models import resnet18\n",
        "\n",
        "resnet = resnet18()\n",
        "for param in resnet.parameters():\n",
        "    nn.init.normal_(param, mean=0, std=0.01)"
      ]
    },
    {
      "cell_type": "code",
      "execution_count": 18,
      "metadata": {
        "id": "fpx-SYAizt4p"
      },
      "outputs": [],
      "source": [
        "for name, param in net.named_parameters():\n",
        "    if 'layer4' in name or 'fc' in name:\n",
        "        param.requires_grad = True\n",
        "    else:\n",
        "        param.requires_grad = False\n",
        ""
      ]
    },
    {
      "cell_type": "code",
      "execution_count": 19,
      "metadata": {
        "id": "BUFWizbHxgm2",
        "colab": {
          "base_uri": "https://localhost:8080/"
        },
        "outputId": "17aecd55-163b-4d98-85e4-31f47632efe4"
      },
      "outputs": [
        {
          "output_type": "stream",
          "name": "stdout",
          "text": [
            "Params to learn:\n",
            "\t layer4.0.conv1.weight\n",
            "\t layer4.0.bn1.weight\n",
            "\t layer4.0.bn1.bias\n",
            "\t layer4.0.conv2.weight\n",
            "\t layer4.0.bn2.weight\n",
            "\t layer4.0.bn2.bias\n",
            "\t layer4.0.downsample.0.weight\n",
            "\t layer4.0.downsample.1.weight\n",
            "\t layer4.0.downsample.1.bias\n",
            "\t layer4.1.conv1.weight\n",
            "\t layer4.1.bn1.weight\n",
            "\t layer4.1.bn1.bias\n",
            "\t layer4.1.conv2.weight\n",
            "\t layer4.1.bn2.weight\n",
            "\t layer4.1.bn2.bias\n",
            "\t fc.weight\n",
            "\t fc.bias\n"
          ]
        }
      ],
      "source": [
        "# Print all the trainable parameters\n",
        "params_to_update = net.parameters()\n",
        "print(\"Params to learn:\")\n",
        "params_to_update = []\n",
        "for name,param in net.named_parameters():\n",
        "    if param.requires_grad == True:\n",
        "        params_to_update.append(param)\n",
        "        print(\"\\t\",name)"
      ]
    },
    {
      "cell_type": "code",
      "execution_count": 20,
      "metadata": {
        "id": "BxFrGj091AN_"
      },
      "outputs": [],
      "source": [
        "# TODO: Define criterion and optimizer\n",
        "# Note that your optimizer only needs to update the parameters that are trainable.\n",
        "criterion = nn.CrossEntropyLoss()\n",
        "optimizer = optim.SGD(net.parameters(), lr=0.001)"
      ]
    },
    {
      "cell_type": "code",
      "execution_count": 21,
      "metadata": {
        "id": "GzRVy0MZxpoL",
        "colab": {
          "base_uri": "https://localhost:8080/"
        },
        "outputId": "4f611531-4e6e-4abb-b0c2-5c2cbf2c8d15"
      },
      "outputs": [
        {
          "output_type": "stream",
          "name": "stdout",
          "text": [
            "[1,   100] loss: 0.706 acc: 75.32 time: 5.91\n",
            "[1,   200] loss: 0.720 acc: 74.50 time: 6.98\n",
            "[1,   300] loss: 0.710 acc: 74.84 time: 5.67\n",
            "TESTING:\n",
            "Accuracy of the network on the 10000 test images: 71.99 %\n",
            "Average loss on the 10000 test images: 0.821\n",
            "[2,   100] loss: 0.712 acc: 74.52 time: 6.12\n",
            "[2,   200] loss: 0.698 acc: 75.28 time: 6.61\n",
            "[2,   300] loss: 0.715 acc: 74.53 time: 5.59\n",
            "TESTING:\n",
            "Accuracy of the network on the 10000 test images: 71.49 %\n",
            "Average loss on the 10000 test images: 0.822\n",
            "[3,   100] loss: 0.713 acc: 74.62 time: 7.18\n",
            "[3,   200] loss: 0.698 acc: 75.11 time: 5.82\n",
            "[3,   300] loss: 0.719 acc: 74.12 time: 6.28\n",
            "TESTING:\n",
            "Accuracy of the network on the 10000 test images: 72.01 %\n",
            "Average loss on the 10000 test images: 0.817\n",
            "[4,   100] loss: 0.714 acc: 74.63 time: 7.14\n",
            "[4,   200] loss: 0.701 acc: 75.00 time: 5.65\n",
            "[4,   300] loss: 0.704 acc: 75.16 time: 6.59\n",
            "TESTING:\n",
            "Accuracy of the network on the 10000 test images: 71.70 %\n",
            "Average loss on the 10000 test images: 0.824\n",
            "[5,   100] loss: 0.707 acc: 75.02 time: 7.16\n",
            "[5,   200] loss: 0.714 acc: 74.60 time: 5.73\n",
            "[5,   300] loss: 0.711 acc: 74.55 time: 6.96\n",
            "TESTING:\n",
            "Accuracy of the network on the 10000 test images: 71.89 %\n",
            "Average loss on the 10000 test images: 0.818\n",
            "[6,   100] loss: 0.703 acc: 74.72 time: 7.18\n",
            "[6,   200] loss: 0.704 acc: 74.95 time: 5.73\n",
            "[6,   300] loss: 0.710 acc: 75.02 time: 7.04\n",
            "TESTING:\n",
            "Accuracy of the network on the 10000 test images: 71.95 %\n",
            "Average loss on the 10000 test images: 0.818\n",
            "[7,   100] loss: 0.700 acc: 75.30 time: 8.64\n",
            "[7,   200] loss: 0.704 acc: 75.12 time: 5.62\n",
            "[7,   300] loss: 0.701 acc: 75.35 time: 7.19\n",
            "TESTING:\n",
            "Accuracy of the network on the 10000 test images: 72.17 %\n",
            "Average loss on the 10000 test images: 0.819\n",
            "[8,   100] loss: 0.709 acc: 74.94 time: 7.18\n",
            "[8,   200] loss: 0.687 acc: 75.62 time: 5.65\n",
            "[8,   300] loss: 0.715 acc: 74.66 time: 7.08\n",
            "TESTING:\n",
            "Accuracy of the network on the 10000 test images: 71.92 %\n",
            "Average loss on the 10000 test images: 0.819\n",
            "[9,   100] loss: 0.692 acc: 75.89 time: 7.19\n",
            "[9,   200] loss: 0.711 acc: 74.73 time: 5.82\n",
            "[9,   300] loss: 0.717 acc: 74.30 time: 7.26\n",
            "TESTING:\n",
            "Accuracy of the network on the 10000 test images: 71.91 %\n",
            "Average loss on the 10000 test images: 0.822\n",
            "[10,   100] loss: 0.715 acc: 74.59 time: 7.05\n",
            "[10,   200] loss: 0.696 acc: 75.23 time: 5.98\n",
            "[10,   300] loss: 0.702 acc: 74.98 time: 7.06\n",
            "TESTING:\n",
            "Accuracy of the network on the 10000 test images: 71.69 %\n",
            "Average loss on the 10000 test images: 0.824\n",
            "[11,   100] loss: 0.703 acc: 74.50 time: 6.56\n",
            "[11,   200] loss: 0.702 acc: 75.11 time: 8.19\n",
            "[11,   300] loss: 0.696 acc: 75.18 time: 6.03\n",
            "TESTING:\n",
            "Accuracy of the network on the 10000 test images: 71.86 %\n",
            "Average loss on the 10000 test images: 0.821\n",
            "[12,   100] loss: 0.704 acc: 74.89 time: 5.68\n",
            "[12,   200] loss: 0.703 acc: 75.01 time: 7.14\n",
            "[12,   300] loss: 0.699 acc: 75.24 time: 5.67\n",
            "TESTING:\n",
            "Accuracy of the network on the 10000 test images: 71.87 %\n",
            "Average loss on the 10000 test images: 0.820\n",
            "[13,   100] loss: 0.701 acc: 74.87 time: 5.75\n",
            "[13,   200] loss: 0.702 acc: 75.13 time: 7.00\n",
            "[13,   300] loss: 0.699 acc: 75.19 time: 5.64\n",
            "TESTING:\n",
            "Accuracy of the network on the 10000 test images: 71.72 %\n",
            "Average loss on the 10000 test images: 0.817\n",
            "[14,   100] loss: 0.704 acc: 75.05 time: 5.77\n",
            "[14,   200] loss: 0.687 acc: 75.41 time: 6.98\n",
            "[14,   300] loss: 0.716 acc: 74.61 time: 5.68\n",
            "TESTING:\n",
            "Accuracy of the network on the 10000 test images: 72.03 %\n",
            "Average loss on the 10000 test images: 0.815\n",
            "[15,   100] loss: 0.715 acc: 74.80 time: 5.73\n",
            "[15,   200] loss: 0.706 acc: 75.17 time: 7.51\n",
            "[15,   300] loss: 0.693 acc: 75.61 time: 6.46\n",
            "TESTING:\n",
            "Accuracy of the network on the 10000 test images: 71.81 %\n",
            "Average loss on the 10000 test images: 0.823\n",
            "[16,   100] loss: 0.697 acc: 75.00 time: 6.31\n",
            "[16,   200] loss: 0.704 acc: 75.16 time: 6.42\n",
            "[16,   300] loss: 0.726 acc: 74.17 time: 5.58\n",
            "TESTING:\n",
            "Accuracy of the network on the 10000 test images: 71.81 %\n",
            "Average loss on the 10000 test images: 0.823\n",
            "[17,   100] loss: 0.694 acc: 75.45 time: 6.72\n",
            "[17,   200] loss: 0.719 acc: 74.37 time: 6.18\n",
            "[17,   300] loss: 0.692 acc: 75.66 time: 5.86\n",
            "TESTING:\n",
            "Accuracy of the network on the 10000 test images: 72.00 %\n",
            "Average loss on the 10000 test images: 0.820\n",
            "[18,   100] loss: 0.715 acc: 74.52 time: 7.08\n",
            "[18,   200] loss: 0.715 acc: 74.30 time: 5.71\n",
            "[18,   300] loss: 0.707 acc: 75.00 time: 6.23\n",
            "TESTING:\n",
            "Accuracy of the network on the 10000 test images: 71.92 %\n",
            "Average loss on the 10000 test images: 0.820\n",
            "[19,   100] loss: 0.701 acc: 75.14 time: 7.28\n",
            "[19,   200] loss: 0.725 acc: 74.28 time: 5.59\n",
            "[19,   300] loss: 0.710 acc: 74.87 time: 6.47\n",
            "TESTING:\n",
            "Accuracy of the network on the 10000 test images: 71.85 %\n",
            "Average loss on the 10000 test images: 0.825\n",
            "[20,   100] loss: 0.708 acc: 74.52 time: 7.23\n",
            "[20,   200] loss: 0.725 acc: 73.84 time: 5.61\n",
            "[20,   300] loss: 0.689 acc: 75.45 time: 6.91\n",
            "TESTING:\n",
            "Accuracy of the network on the 10000 test images: 71.94 %\n",
            "Average loss on the 10000 test images: 0.818\n"
          ]
        }
      ],
      "source": [
        "train(net, criterion, optimizer, num_epochs=20, decay_epochs=10, init_lr=0.01, task='classification')"
      ]
    },
    {
      "cell_type": "markdown",
      "metadata": {
        "id": "WcN54tcNN15U"
      },
      "source": [
        "# Supervised training on the pre-trained model\n",
        "### In this section, we will load the pre-trained ResNet18 model and re-train the whole model on the classification task."
      ]
    },
    {
      "cell_type": "code",
      "execution_count": null,
      "metadata": {
        "id": "9xR9h_S1N6Xi",
        "colab": {
          "base_uri": "https://localhost:8080/"
        },
        "outputId": "f60aa76b-d143-4dda-808f-251478209fbc"
      },
      "outputs": [
        {
          "output_type": "stream",
          "name": "stderr",
          "text": [
            "/usr/local/lib/python3.10/dist-packages/torchvision/models/_utils.py:208: UserWarning: The parameter 'pretrained' is deprecated since 0.13 and may be removed in the future, please use 'weights' instead.\n",
            "  warnings.warn(\n",
            "/usr/local/lib/python3.10/dist-packages/torchvision/models/_utils.py:223: UserWarning: Arguments other than a weight enum or `None` for 'weights' are deprecated since 0.13 and may be removed in the future. The current behavior is equivalent to passing `weights=ResNet18_Weights.IMAGENET1K_V1`. You can also use `weights=ResNet18_Weights.DEFAULT` to get the most up-to-date weights.\n",
            "  warnings.warn(msg)\n",
            "Downloading: \"https://download.pytorch.org/models/resnet18-f37072fd.pth\" to /root/.cache/torch/hub/checkpoints/resnet18-f37072fd.pth\n",
            "100%|██████████| 44.7M/44.7M [00:00<00:00, 166MB/s]\n"
          ]
        }
      ],
      "source": [
        "import torch.nn as nn\n",
        "import torch.nn.functional as F\n",
        "\n",
        "from torchvision.models import resnet18\n",
        "\n",
        "net = resnet18(pretrained=True)\n",
        "net = net.to(device)"
      ]
    },
    {
      "cell_type": "code",
      "execution_count": null,
      "metadata": {
        "id": "gGozc2cM0ADw"
      },
      "outputs": [],
      "source": [
        "criterion = nn.CrossEntropyLoss()\n",
        "\n",
        "# Define the optimizer\n",
        "optimizer = optim.SGD(net.parameters(), lr=0.001)"
      ]
    },
    {
      "cell_type": "code",
      "execution_count": null,
      "metadata": {
        "id": "JGWW7gzCz_Bu",
        "colab": {
          "base_uri": "https://localhost:8080/"
        },
        "outputId": "c24f567f-9751-4dd7-9be4-afb4a1759611"
      },
      "outputs": [
        {
          "output_type": "stream",
          "name": "stdout",
          "text": [
            "[1,   100] loss: 0.448 acc: 84.00 time: 7.96\n",
            "[1,   200] loss: 0.477 acc: 83.46 time: 6.47\n",
            "[1,   300] loss: 0.456 acc: 83.95 time: 7.73\n",
            "TESTING:\n",
            "Accuracy of the network on the 10000 test images: 82.13 %\n",
            "Average loss on the 10000 test images: 0.525\n",
            "[2,   100] loss: 0.448 acc: 84.43 time: 6.80\n",
            "[2,   200] loss: 0.463 acc: 83.96 time: 7.65\n",
            "[2,   300] loss: 0.461 acc: 83.82 time: 6.30\n",
            "TESTING:\n",
            "Accuracy of the network on the 10000 test images: 82.11 %\n",
            "Average loss on the 10000 test images: 0.525\n",
            "[3,   100] loss: 0.455 acc: 84.41 time: 6.74\n",
            "[3,   200] loss: 0.462 acc: 83.86 time: 7.76\n",
            "[3,   300] loss: 0.475 acc: 83.49 time: 6.80\n",
            "TESTING:\n",
            "Accuracy of the network on the 10000 test images: 82.06 %\n",
            "Average loss on the 10000 test images: 0.523\n",
            "[4,   100] loss: 0.450 acc: 84.10 time: 7.94\n",
            "[4,   200] loss: 0.460 acc: 84.01 time: 6.40\n",
            "[4,   300] loss: 0.474 acc: 83.81 time: 7.91\n",
            "TESTING:\n",
            "Accuracy of the network on the 10000 test images: 82.15 %\n",
            "Average loss on the 10000 test images: 0.525\n",
            "[5,   100] loss: 0.474 acc: 83.73 time: 7.36\n",
            "[5,   200] loss: 0.452 acc: 84.27 time: 7.39\n",
            "[5,   300] loss: 0.464 acc: 83.95 time: 6.79\n",
            "TESTING:\n",
            "Accuracy of the network on the 10000 test images: 82.10 %\n",
            "Average loss on the 10000 test images: 0.525\n",
            "[6,   100] loss: 0.466 acc: 83.84 time: 6.54\n",
            "[6,   200] loss: 0.451 acc: 84.47 time: 7.71\n",
            "[6,   300] loss: 0.461 acc: 83.71 time: 6.52\n",
            "TESTING:\n",
            "Accuracy of the network on the 10000 test images: 82.24 %\n",
            "Average loss on the 10000 test images: 0.524\n",
            "[7,   100] loss: 0.459 acc: 83.95 time: 7.90\n",
            "[7,   200] loss: 0.453 acc: 84.12 time: 6.47\n",
            "[7,   300] loss: 0.470 acc: 83.77 time: 7.86\n",
            "TESTING:\n",
            "Accuracy of the network on the 10000 test images: 82.19 %\n",
            "Average loss on the 10000 test images: 0.523\n",
            "[8,   100] loss: 0.466 acc: 83.68 time: 7.94\n",
            "[8,   200] loss: 0.464 acc: 83.78 time: 6.73\n",
            "[8,   300] loss: 0.465 acc: 83.70 time: 7.49\n",
            "TESTING:\n",
            "Accuracy of the network on the 10000 test images: 82.17 %\n",
            "Average loss on the 10000 test images: 0.524\n",
            "[9,   100] loss: 0.454 acc: 84.23 time: 6.51\n",
            "[9,   200] loss: 0.470 acc: 83.41 time: 7.93\n",
            "[9,   300] loss: 0.462 acc: 83.58 time: 6.28\n",
            "TESTING:\n",
            "Accuracy of the network on the 10000 test images: 82.20 %\n",
            "Average loss on the 10000 test images: 0.525\n",
            "[10,   100] loss: 0.465 acc: 83.89 time: 7.07\n",
            "[10,   200] loss: 0.456 acc: 83.83 time: 7.41\n",
            "[10,   300] loss: 0.452 acc: 84.44 time: 7.03\n",
            "TESTING:\n",
            "Accuracy of the network on the 10000 test images: 82.18 %\n",
            "Average loss on the 10000 test images: 0.524\n",
            "[11,   100] loss: 0.450 acc: 84.38 time: 7.91\n",
            "[11,   200] loss: 0.448 acc: 84.49 time: 6.46\n",
            "[11,   300] loss: 0.464 acc: 83.76 time: 7.84\n",
            "TESTING:\n",
            "Accuracy of the network on the 10000 test images: 82.06 %\n",
            "Average loss on the 10000 test images: 0.525\n",
            "[12,   100] loss: 0.461 acc: 83.82 time: 6.88\n",
            "[12,   200] loss: 0.461 acc: 83.82 time: 7.81\n",
            "[12,   300] loss: 0.458 acc: 83.90 time: 6.37\n",
            "TESTING:\n",
            "Accuracy of the network on the 10000 test images: 82.19 %\n",
            "Average loss on the 10000 test images: 0.525\n",
            "[13,   100] loss: 0.447 acc: 84.32 time: 6.60\n",
            "[13,   200] loss: 0.468 acc: 83.43 time: 7.76\n",
            "[13,   300] loss: 0.459 acc: 84.03 time: 6.51\n",
            "TESTING:\n",
            "Accuracy of the network on the 10000 test images: 82.17 %\n",
            "Average loss on the 10000 test images: 0.523\n",
            "[14,   100] loss: 0.445 acc: 84.34 time: 8.02\n",
            "[14,   200] loss: 0.462 acc: 83.93 time: 6.42\n",
            "[14,   300] loss: 0.453 acc: 84.15 time: 7.82\n",
            "TESTING:\n",
            "Accuracy of the network on the 10000 test images: 82.16 %\n",
            "Average loss on the 10000 test images: 0.525\n",
            "[15,   100] loss: 0.461 acc: 83.66 time: 7.61\n",
            "[15,   200] loss: 0.469 acc: 83.80 time: 7.33\n",
            "[15,   300] loss: 0.444 acc: 84.46 time: 6.81\n",
            "TESTING:\n",
            "Accuracy of the network on the 10000 test images: 82.22 %\n",
            "Average loss on the 10000 test images: 0.523\n",
            "[16,   100] loss: 0.452 acc: 84.20 time: 6.76\n",
            "[16,   200] loss: 0.463 acc: 83.91 time: 7.73\n",
            "[16,   300] loss: 0.476 acc: 83.47 time: 6.44\n",
            "TESTING:\n",
            "Accuracy of the network on the 10000 test images: 82.23 %\n",
            "Average loss on the 10000 test images: 0.523\n",
            "[17,   100] loss: 0.461 acc: 83.61 time: 8.04\n",
            "[17,   200] loss: 0.462 acc: 83.77 time: 6.33\n",
            "[17,   300] loss: 0.463 acc: 84.09 time: 7.66\n",
            "TESTING:\n",
            "Accuracy of the network on the 10000 test images: 82.20 %\n",
            "Average loss on the 10000 test images: 0.524\n",
            "[18,   100] loss: 0.457 acc: 84.18 time: 8.03\n",
            "[18,   200] loss: 0.464 acc: 83.83 time: 6.55\n",
            "[18,   300] loss: 0.459 acc: 83.79 time: 7.66\n",
            "TESTING:\n",
            "Accuracy of the network on the 10000 test images: 82.19 %\n",
            "Average loss on the 10000 test images: 0.523\n",
            "[19,   100] loss: 0.458 acc: 83.79 time: 6.63\n",
            "[19,   200] loss: 0.453 acc: 84.15 time: 7.82\n",
            "[19,   300] loss: 0.454 acc: 84.53 time: 6.32\n",
            "TESTING:\n",
            "Accuracy of the network on the 10000 test images: 82.21 %\n",
            "Average loss on the 10000 test images: 0.522\n",
            "[20,   100] loss: 0.453 acc: 84.43 time: 7.65\n",
            "[20,   200] loss: 0.451 acc: 84.29 time: 6.68\n",
            "[20,   300] loss: 0.474 acc: 83.88 time: 7.70\n",
            "TESTING:\n",
            "Accuracy of the network on the 10000 test images: 82.13 %\n",
            "Average loss on the 10000 test images: 0.525\n"
          ]
        }
      ],
      "source": [
        "train(net, criterion, optimizer, num_epochs=20, decay_epochs=10, init_lr=0.01, task='classification')"
      ]
    },
    {
      "cell_type": "markdown",
      "metadata": {
        "id": "xjVTp9jhefTi"
      },
      "source": [
        "# Supervised training on the randomly initialized model\n",
        "### In this section, we will randomly initialize a ResNet18 model and re-train the whole model on the classification task."
      ]
    },
    {
      "cell_type": "code",
      "execution_count": null,
      "metadata": {
        "id": "uEjy8TBieeLK"
      },
      "outputs": [],
      "source": [
        "import torch.nn as nn\n",
        "import torch.nn.functional as F\n",
        "\n",
        "from torchvision.models import resnet18\n",
        "\n",
        "resnet = resnet18()\n",
        "for param in resnet.parameters():\n",
        "    nn.init.normal_(param, mean=0, std=0.01)\n",
        "\n"
      ]
    },
    {
      "cell_type": "code",
      "execution_count": null,
      "metadata": {
        "id": "jEY90pK_0ZAm"
      },
      "outputs": [],
      "source": [
        "criterion = nn.CrossEntropyLoss()\n",
        "\n",
        "optimizer = optim.SGD(net.parameters(), lr=0.001)"
      ]
    },
    {
      "cell_type": "code",
      "execution_count": null,
      "metadata": {
        "id": "lMDwelhY0auO",
        "colab": {
          "base_uri": "https://localhost:8080/"
        },
        "outputId": "ccfedf15-f1ac-43ee-df91-866c8cd88b2d"
      },
      "outputs": [
        {
          "output_type": "stream",
          "name": "stdout",
          "text": [
            "[1,   100] loss: 0.471 acc: 83.48 time: 6.54\n",
            "[1,   200] loss: 0.459 acc: 83.88 time: 7.86\n",
            "[1,   300] loss: 0.451 acc: 84.38 time: 6.34\n",
            "TESTING:\n",
            "Accuracy of the network on the 10000 test images: 82.21 %\n",
            "Average loss on the 10000 test images: 0.524\n",
            "[2,   100] loss: 0.468 acc: 83.58 time: 6.55\n",
            "[2,   200] loss: 0.453 acc: 84.52 time: 8.07\n",
            "[2,   300] loss: 0.465 acc: 83.54 time: 6.73\n",
            "TESTING:\n",
            "Accuracy of the network on the 10000 test images: 82.25 %\n",
            "Average loss on the 10000 test images: 0.523\n",
            "[3,   100] loss: 0.458 acc: 84.28 time: 7.93\n",
            "[3,   200] loss: 0.455 acc: 84.27 time: 6.44\n",
            "[3,   300] loss: 0.465 acc: 83.80 time: 7.64\n",
            "TESTING:\n",
            "Accuracy of the network on the 10000 test images: 82.11 %\n",
            "Average loss on the 10000 test images: 0.523\n",
            "[4,   100] loss: 0.449 acc: 84.44 time: 7.25\n",
            "[4,   200] loss: 0.464 acc: 83.69 time: 7.30\n",
            "[4,   300] loss: 0.456 acc: 83.98 time: 6.78\n",
            "TESTING:\n",
            "Accuracy of the network on the 10000 test images: 82.09 %\n",
            "Average loss on the 10000 test images: 0.521\n",
            "[5,   100] loss: 0.458 acc: 84.07 time: 6.45\n",
            "[5,   200] loss: 0.454 acc: 84.09 time: 7.74\n",
            "[5,   300] loss: 0.465 acc: 83.77 time: 6.38\n",
            "TESTING:\n",
            "Accuracy of the network on the 10000 test images: 82.24 %\n",
            "Average loss on the 10000 test images: 0.523\n",
            "[6,   100] loss: 0.451 acc: 84.38 time: 7.82\n",
            "[6,   200] loss: 0.454 acc: 83.90 time: 6.33\n",
            "[6,   300] loss: 0.457 acc: 84.11 time: 7.80\n",
            "TESTING:\n",
            "Accuracy of the network on the 10000 test images: 82.15 %\n",
            "Average loss on the 10000 test images: 0.524\n",
            "[7,   100] loss: 0.451 acc: 84.33 time: 8.05\n",
            "[7,   200] loss: 0.453 acc: 84.23 time: 6.33\n",
            "[7,   300] loss: 0.461 acc: 83.88 time: 7.76\n",
            "TESTING:\n",
            "Accuracy of the network on the 10000 test images: 82.25 %\n",
            "Average loss on the 10000 test images: 0.523\n",
            "[8,   100] loss: 0.447 acc: 84.30 time: 6.60\n",
            "[8,   200] loss: 0.460 acc: 83.80 time: 7.70\n",
            "[8,   300] loss: 0.447 acc: 84.12 time: 6.51\n",
            "TESTING:\n",
            "Accuracy of the network on the 10000 test images: 82.04 %\n",
            "Average loss on the 10000 test images: 0.523\n",
            "[9,   100] loss: 0.464 acc: 83.74 time: 7.08\n",
            "[9,   200] loss: 0.454 acc: 84.27 time: 7.05\n",
            "[9,   300] loss: 0.445 acc: 84.41 time: 7.08\n",
            "TESTING:\n",
            "Accuracy of the network on the 10000 test images: 82.20 %\n",
            "Average loss on the 10000 test images: 0.522\n",
            "[10,   100] loss: 0.457 acc: 84.06 time: 7.99\n",
            "[10,   200] loss: 0.455 acc: 84.20 time: 6.51\n",
            "[10,   300] loss: 0.459 acc: 84.06 time: 7.76\n",
            "TESTING:\n",
            "Accuracy of the network on the 10000 test images: 82.20 %\n",
            "Average loss on the 10000 test images: 0.523\n",
            "[11,   100] loss: 0.455 acc: 84.30 time: 7.13\n",
            "[11,   200] loss: 0.454 acc: 84.41 time: 7.45\n",
            "[11,   300] loss: 0.461 acc: 83.97 time: 6.70\n",
            "TESTING:\n",
            "Accuracy of the network on the 10000 test images: 82.11 %\n",
            "Average loss on the 10000 test images: 0.522\n",
            "[12,   100] loss: 0.447 acc: 84.67 time: 6.58\n",
            "[12,   200] loss: 0.460 acc: 83.73 time: 7.72\n",
            "[12,   300] loss: 0.453 acc: 84.09 time: 6.35\n",
            "TESTING:\n",
            "Accuracy of the network on the 10000 test images: 82.36 %\n",
            "Average loss on the 10000 test images: 0.523\n",
            "[13,   100] loss: 0.451 acc: 83.86 time: 8.06\n",
            "[13,   200] loss: 0.458 acc: 84.45 time: 6.31\n",
            "[13,   300] loss: 0.449 acc: 84.35 time: 7.76\n",
            "TESTING:\n",
            "Accuracy of the network on the 10000 test images: 82.06 %\n",
            "Average loss on the 10000 test images: 0.524\n",
            "[14,   100] loss: 0.461 acc: 83.88 time: 7.87\n",
            "[14,   200] loss: 0.450 acc: 84.29 time: 6.73\n",
            "[14,   300] loss: 0.458 acc: 83.94 time: 7.30\n",
            "TESTING:\n",
            "Accuracy of the network on the 10000 test images: 82.19 %\n",
            "Average loss on the 10000 test images: 0.523\n",
            "[15,   100] loss: 0.444 acc: 84.26 time: 6.53\n",
            "[15,   200] loss: 0.463 acc: 84.16 time: 7.77\n",
            "[15,   300] loss: 0.459 acc: 83.74 time: 6.40\n",
            "TESTING:\n",
            "Accuracy of the network on the 10000 test images: 82.09 %\n",
            "Average loss on the 10000 test images: 0.524\n",
            "[16,   100] loss: 0.450 acc: 84.30 time: 7.23\n",
            "[16,   200] loss: 0.455 acc: 84.12 time: 7.02\n",
            "[16,   300] loss: 0.464 acc: 83.80 time: 7.14\n",
            "TESTING:\n",
            "Accuracy of the network on the 10000 test images: 82.17 %\n",
            "Average loss on the 10000 test images: 0.522\n",
            "[17,   100] loss: 0.447 acc: 84.70 time: 7.94\n",
            "[17,   200] loss: 0.465 acc: 83.79 time: 6.35\n",
            "[17,   300] loss: 0.453 acc: 84.27 time: 7.61\n",
            "TESTING:\n",
            "Accuracy of the network on the 10000 test images: 82.15 %\n",
            "Average loss on the 10000 test images: 0.522\n",
            "[18,   100] loss: 0.460 acc: 83.91 time: 6.96\n",
            "[18,   200] loss: 0.466 acc: 83.95 time: 7.76\n",
            "[18,   300] loss: 0.455 acc: 83.98 time: 6.26\n",
            "TESTING:\n",
            "Accuracy of the network on the 10000 test images: 82.20 %\n",
            "Average loss on the 10000 test images: 0.523\n",
            "[19,   100] loss: 0.457 acc: 83.81 time: 6.50\n",
            "[19,   200] loss: 0.471 acc: 83.52 time: 7.71\n",
            "[19,   300] loss: 0.448 acc: 84.29 time: 6.36\n",
            "TESTING:\n",
            "Accuracy of the network on the 10000 test images: 82.16 %\n",
            "Average loss on the 10000 test images: 0.524\n",
            "[20,   100] loss: 0.451 acc: 84.51 time: 7.84\n",
            "[20,   200] loss: 0.452 acc: 84.48 time: 6.33\n",
            "[20,   300] loss: 0.453 acc: 84.27 time: 7.89\n",
            "TESTING:\n",
            "Accuracy of the network on the 10000 test images: 82.33 %\n",
            "Average loss on the 10000 test images: 0.523\n"
          ]
        }
      ],
      "source": [
        "train(net, criterion, optimizer, num_epochs=20, decay_epochs=10, init_lr=0.01, task='classification')"
      ]
    },
    {
      "cell_type": "code",
      "source": [],
      "metadata": {
        "id": "R23XQcHfe5fa"
      },
      "execution_count": null,
      "outputs": []
    }
  ],
  "metadata": {
    "accelerator": "GPU",
    "colab": {
      "provenance": [],
      "gpuType": "T4"
    },
    "kernelspec": {
      "display_name": "Python 3",
      "name": "python3"
    },
    "language_info": {
      "codemirror_mode": {
        "name": "ipython",
        "version": 3
      },
      "file_extension": ".py",
      "mimetype": "text/x-python",
      "name": "python",
      "nbconvert_exporter": "python",
      "pygments_lexer": "ipython3",
      "version": "3.11.3"
    },
    "vscode": {
      "interpreter": {
        "hash": "aee8b7b246df8f9039afb4144a1f6fd8d2ca17a180786b69acc140d282b71a49"
      }
    }
  },
  "nbformat": 4,
  "nbformat_minor": 0
}